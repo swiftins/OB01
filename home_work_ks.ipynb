{
 "cells": [
  {
   "cell_type": "code",
   "execution_count": 17,
   "metadata": {},
   "outputs": [
    {
     "name": "stdout",
     "output_type": "stream",
     "text": [
      "['Испечь пирог']\n",
      "['Испечь пирог', 'Сходить в парикмахерскую']\n",
      "['Испечь пирог', 'Сходить в парикмахерскую', 'Посетить  выставку']\n"
     ]
    }
   ],
   "source": [
    "#Создай класс Task, который позволяет управлять задачами (делами). \n",
    "#У задачи должны быть атрибуты: описание задачи, срок выполнения и статус \n",
    "#(выполнено/не выполнено). Реализуй функцию для добавления задач, отметки выполненных \n",
    "#задач и вывода списка текущих (не выполненных) задач.\n",
    "class Task:\n",
    "    def __init__(self, description, time, status):\n",
    "        self.description = description\n",
    "        self.time = time\n",
    "        self.status = status\n",
    "        Deals.append(description)\n",
    "\n",
    "    def add_task(self, task):\n",
    "        self.deals.append(task)\n",
    "        print(f\"Добавлена задача, {task }\")\n",
    "\n",
    "    def mark_as_done(self):\n",
    "        self.status = \"выполнено\"   \n",
    "        Deals.remove(self.description)   \n",
    "        Deals_done.append(self.description)\n",
    "\n",
    "Deals_done = []\n",
    "Deals = []\n",
    "\n",
    "t1 = Task(\"Испечь пирог\", 2, \"не выполнено\")\n",
    "print(Deals)\n",
    "t2 = Task(\"Сходить в парикмахерскую\", 3, \"не выполнено\")\n",
    "print(Deals)\n",
    "t3 = Task (\"Посетить  выставку\", 4 , \"не выполнено\")\n",
    "print(Deals)\n",
    "\n",
    "print(t1.time, t2.time, t3.time)\n",
    "\n",
    "t1.mark_as_done()\n",
    "print(Deals)\n",
    "\n",
    "t2.mark_as_done()\n",
    "print(Deals)\n",
    "\n",
    "print(t1.time, t2.time, t3.time)\n",
    "print(t1.status,t2.status,t3.status)"
   ]
  }
 ],
 "metadata": {
  "kernelspec": {
   "display_name": "base",
   "language": "python",
   "name": "python3"
  },
  "language_info": {
   "codemirror_mode": {
    "name": "ipython",
    "version": 3
   },
   "file_extension": ".py",
   "mimetype": "text/x-python",
   "name": "python",
   "nbconvert_exporter": "python",
   "pygments_lexer": "ipython3",
   "version": "3.12.7"
  }
 },
 "nbformat": 4,
 "nbformat_minor": 2
}
