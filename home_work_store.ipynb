{
 "cells": [
  {
   "cell_type": "code",
   "execution_count": 1,
   "metadata": {},
   "outputs": [
    {
     "name": "stdout",
     "output_type": "stream",
     "text": [
      "Shop:Shampoo for All\n",
      "address:Riga, Brivibas iela 46\n",
      "Nomenclature:\n",
      "  - Her hear: 4.5 eur.\n",
      "\n",
      "  - His hear: 2.8 eur.\n",
      "\n",
      "  - Baby hear: 2.9 eur.\n",
      "\n",
      "Shop:Shampoo and You\n",
      "address:Riga, Stabu iela 113\n",
      "Nomenclature:\n",
      "  - Her hear: 4.2 eur.\n",
      "\n",
      "  - His hear: 2.5 eur.\n",
      "\n",
      "  - Baby hear: 2.7 eur.\n",
      "\n",
      "Shop:All about your hear\n",
      "address:Riga, Kleisti iela 110\n",
      "Nomenclature:\n",
      "  - Her hear: 5.05 eur.\n",
      "\n",
      "  - His hear: 3.0 eur.\n",
      "\n",
      "  - Baby hear: 3.05 eur.\n",
      "\n",
      "Shop:Coner Shop\n",
      "address:Riga, Avotu  iela 2\n",
      "Nomenclature:\n",
      "  - Her hear: 3.7 eur.\n",
      "\n",
      "  - His hear: 2.2 eur.\n",
      "\n",
      "  - Baby hear: 2.9 eur.\n",
      "\n"
     ]
    }
   ],
   "source": [
    "#Ты разрабатываешь программное обеспечение для сети магазинов. \n",
    "#Каждый магазин в этой сети имеет свои особенности, \n",
    "#но также существуют общие характеристики, такие как адрес, \n",
    "#название и ассортимент товаров. Ваша задача — создать класс Store,\n",
    "#который можно будет использовать для создания различных магазинов.\n",
    "# Методы: добавить товар, удалить товар извлечь цену по названию ( если нет товара, то None), \n",
    "# обновлять цену\n",
    "\n",
    "class Store:\n",
    "    def __init__(self, name, address, items):\n",
    "        self.name = name\n",
    "        self.address = address\n",
    "        self.items = items\n",
    "\n",
    "    def add_item(self, item_name, price):\n",
    "        self.items[item_name] = price\n",
    "        print(f\"Товар '{item_name}' добавлен с ценой {price}.\")\n",
    "\n",
    "    def remove_item(self, item_name):\n",
    "        if item_name in self.items:\n",
    "            del self.items[item_name]\n",
    "            print(f\"Товар '{item_name}'удалён из ассортимента.\")\n",
    "\n",
    "        else:\n",
    "            print(f\"Товар '{item_name}' отсутствует в ассортименте.\")\n",
    "\n",
    "    def get_price(self, item_name):\n",
    "        return self.items.get(item_name, None)\n",
    "\n",
    "    def update_price(self, item_name, new_price):\n",
    "        if item_name in self.items:\n",
    "            self.items[item_name] = new_price\n",
    "            print(f\"Цена товара '{item_name}' обновлена до {new_price}.\")\n",
    "        else:\n",
    "            print(f\"Товар '{item_name}' отсутствует в ассортименте.\")\n",
    "\n",
    "\n",
    "store1 = Store(\"Shampoo for All\", \"Riga, Brivibas iela 46\", \n",
    "            {\"Her hear\": 4.50, \n",
    "                \"His hear\": 2.80,\n",
    "                \"Baby hear\": 2.90})\n",
    "store2 = Store(\"Shampoo and You\", \"Riga, Stabu iela 113\", \n",
    "            {\"Her hear\": 4.20, \n",
    "                \"His hear\": 2.50,\n",
    "                \"Baby hear\": 2.70})\n",
    "store3 = Store(\"All about your hear\", \"Riga, Kleisti iela 110\", \n",
    "            {\"Her hear\": 5.05,\n",
    "                \"His hear\": 3.00,\n",
    "                \"Baby hear\": 3.05})\n",
    "store4 =  Store(\"Coner Shop\", \"Riga, Avotu  iela 2\",\n",
    "                {\"Her hear\": 3.70, \n",
    "                \"His hear\": 2.20,\n",
    "                \"Baby hear\": 2.90})\n",
    "                \n",
    "                \n",
    "                \n",
    "                \n",
    "for Store in [store1,store2,store3,store4]: \n",
    "    print(f\"Shop:{Store.name}\")\n",
    "    print(f\"address:{Store.address}\")\n",
    "    print(\"Nomenclature:\")\n",
    "    for item, price in Store.items.items():\n",
    "        print(f\"  - {item}: {price} eur.\")\n",
    "        print()\n",
    "    "
   ]
  },
  {
   "cell_type": "code",
   "execution_count": 2,
   "metadata": {},
   "outputs": [
    {
     "name": "stdout",
     "output_type": "stream",
     "text": [
      "Товар 'Her hear'удалён из ассортимента.\n"
     ]
    },
    {
     "data": {
      "text/plain": [
       "{'His hear': 2.8, 'Baby hear': 2.9}"
      ]
     },
     "execution_count": 2,
     "metadata": {},
     "output_type": "execute_result"
    }
   ],
   "source": [
    "store1.remove_item(\"Her hear\")\n",
    "store1.items"
   ]
  },
  {
   "cell_type": "code",
   "execution_count": 4,
   "metadata": {},
   "outputs": [
    {
     "data": {
      "text/plain": [
       "{'His hear': 2.8, 'Baby hear': 2.9}"
      ]
     },
     "execution_count": 4,
     "metadata": {},
     "output_type": "execute_result"
    }
   ],
   "source": [
    "store1.items \n"
   ]
  },
  {
   "cell_type": "code",
   "execution_count": 27,
   "metadata": {},
   "outputs": [
    {
     "name": "stdout",
     "output_type": "stream",
     "text": [
      "Цена товара 'His hear' обновлена до 2.6.\n"
     ]
    },
    {
     "data": {
      "text/plain": [
       "{'Her hear': 4.2,\n",
       " 'His hear': 2.6,\n",
       " 'Baby hear': 2.7,\n",
       " 'HairVita': 2.85,\n",
       " 'HairVita_': 2.85}"
      ]
     },
     "execution_count": 27,
     "metadata": {},
     "output_type": "execute_result"
    }
   ],
   "source": [
    "store2.update_price(\"His hear\", 2.60)\n",
    "store2.items"
   ]
  },
  {
   "cell_type": "code",
   "execution_count": 6,
   "metadata": {},
   "outputs": [
    {
     "name": "stdout",
     "output_type": "stream",
     "text": [
      "Товар 'HairVita' добавлен с ценой 2.8.\n"
     ]
    },
    {
     "data": {
      "text/plain": [
       "{'His hear': 2.8, 'Baby hear': 2.9, 'HairVita': 2.8}"
      ]
     },
     "execution_count": 6,
     "metadata": {},
     "output_type": "execute_result"
    }
   ],
   "source": [
    "store1.add_item(\"HairVita\", 2.80)\n",
    "store1.items"
   ]
  },
  {
   "cell_type": "code",
   "execution_count": 25,
   "metadata": {},
   "outputs": [
    {
     "name": "stdout",
     "output_type": "stream",
     "text": [
      "Товар 'HairVita_' добавлен с ценой 2.85.\n",
      "Товар 'HairVita_' добавлен с ценой 2.85.\n",
      "Товар 'HairVita_' добавлен с ценой 2.85.\n",
      "Товар 'HairVita_' добавлен с ценой 2.85.\n"
     ]
    }
   ],
   "source": [
    "for S in [store1,store2,store3,store4]:\n",
    "    S.add_item(\"HairVita_\",2.85)\n",
    "    "
   ]
  },
  {
   "cell_type": "code",
   "execution_count": 26,
   "metadata": {},
   "outputs": [
    {
     "data": {
      "text/plain": [
       "{'Her hear': 5.05,\n",
       " 'His hear': 3.0,\n",
       " 'Baby hear': 3.05,\n",
       " 'HairVita': 2.85,\n",
       " 'HairVita_': 2.85}"
      ]
     },
     "execution_count": 26,
     "metadata": {},
     "output_type": "execute_result"
    }
   ],
   "source": [
    "store3.items"
   ]
  }
 ],
 "metadata": {
  "kernelspec": {
   "display_name": "base",
   "language": "python",
   "name": "python3"
  },
  "language_info": {
   "codemirror_mode": {
    "name": "ipython",
    "version": 3
   },
   "file_extension": ".py",
   "mimetype": "text/x-python",
   "name": "python",
   "nbconvert_exporter": "python",
   "pygments_lexer": "ipython3",
   "version": "3.12.7"
  }
 },
 "nbformat": 4,
 "nbformat_minor": 2
}
